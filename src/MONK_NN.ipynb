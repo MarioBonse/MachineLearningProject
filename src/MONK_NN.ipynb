{
 "cells": [
  {
   "cell_type": "markdown",
   "metadata": {
    "colab_type": "text",
    "id": "okHeJ1x8yzWE"
   },
   "source": [
    "# MONK with NN"
   ]
  },
  {
   "cell_type": "code",
   "execution_count": 15,
   "metadata": {
    "colab": {
     "base_uri": "https://localhost:8080/",
     "height": 206
    },
    "colab_type": "code",
    "id": "BIe_ajZqyEDq",
    "outputId": "f47fb37b-5020-4276-9627-f25a7af4c7f9"
   },
   "outputs": [
    {
     "data": {
      "text/html": [
       "<div>\n",
       "<style scoped>\n",
       "    .dataframe tbody tr th:only-of-type {\n",
       "        vertical-align: middle;\n",
       "    }\n",
       "\n",
       "    .dataframe tbody tr th {\n",
       "        vertical-align: top;\n",
       "    }\n",
       "\n",
       "    .dataframe thead th {\n",
       "        text-align: right;\n",
       "    }\n",
       "</style>\n",
       "<table border=\"1\" class=\"dataframe\">\n",
       "  <thead>\n",
       "    <tr style=\"text-align: right;\">\n",
       "      <th></th>\n",
       "      <th>class</th>\n",
       "      <th>a1</th>\n",
       "      <th>a2</th>\n",
       "      <th>a3</th>\n",
       "      <th>a4</th>\n",
       "      <th>a5</th>\n",
       "      <th>a6</th>\n",
       "    </tr>\n",
       "  </thead>\n",
       "  <tbody>\n",
       "    <tr>\n",
       "      <th>0</th>\n",
       "      <td>1</td>\n",
       "      <td>1</td>\n",
       "      <td>1</td>\n",
       "      <td>1</td>\n",
       "      <td>1</td>\n",
       "      <td>3</td>\n",
       "      <td>1</td>\n",
       "    </tr>\n",
       "    <tr>\n",
       "      <th>1</th>\n",
       "      <td>1</td>\n",
       "      <td>1</td>\n",
       "      <td>1</td>\n",
       "      <td>1</td>\n",
       "      <td>1</td>\n",
       "      <td>3</td>\n",
       "      <td>2</td>\n",
       "    </tr>\n",
       "    <tr>\n",
       "      <th>2</th>\n",
       "      <td>1</td>\n",
       "      <td>1</td>\n",
       "      <td>1</td>\n",
       "      <td>1</td>\n",
       "      <td>3</td>\n",
       "      <td>2</td>\n",
       "      <td>1</td>\n",
       "    </tr>\n",
       "    <tr>\n",
       "      <th>3</th>\n",
       "      <td>1</td>\n",
       "      <td>1</td>\n",
       "      <td>1</td>\n",
       "      <td>1</td>\n",
       "      <td>3</td>\n",
       "      <td>3</td>\n",
       "      <td>2</td>\n",
       "    </tr>\n",
       "    <tr>\n",
       "      <th>4</th>\n",
       "      <td>1</td>\n",
       "      <td>1</td>\n",
       "      <td>1</td>\n",
       "      <td>2</td>\n",
       "      <td>1</td>\n",
       "      <td>2</td>\n",
       "      <td>1</td>\n",
       "    </tr>\n",
       "  </tbody>\n",
       "</table>\n",
       "</div>"
      ],
      "text/plain": [
       "   class  a1  a2  a3  a4  a5  a6\n",
       "0      1   1   1   1   1   3   1\n",
       "1      1   1   1   1   1   3   2\n",
       "2      1   1   1   1   3   2   1\n",
       "3      1   1   1   1   3   3   2\n",
       "4      1   1   1   2   1   2   1"
      ]
     },
     "execution_count": 15,
     "metadata": {},
     "output_type": "execute_result"
    }
   ],
   "source": [
    "def warn(*args, **kwargs):\n",
    "    pass\n",
    "import warnings\n",
    "warnings.warn = warn\n",
    "\n",
    "import pandas as pd\n",
    "import numpy as np\n",
    "\n",
    "from sklearn.neural_network import MLPClassifier\n",
    "from sklearn.preprocessing import StandardScaler\n",
    "from sklearn.model_selection import GridSearchCV\n",
    "from sklearn.model_selection import train_test_split\n",
    "from sklearn.model_selection import KFold, cross_val_score\n",
    "from sklearn.model_selection import ShuffleSplit\n",
    "from sklearn.model_selection import StratifiedKFold\n",
    "from sklearn.model_selection import cross_validate\n",
    "from sklearn.model_selection import learning_curve\n",
    "\n",
    "import matplotlib.pyplot as plt\n",
    "\n",
    "def readFile(name):\n",
    "    \"\"\"Import data from csv file\"\"\"\n",
    "    df = pd.read_csv(name, delim_whitespace=True, header=None,\n",
    "                     names=['class', 'a1', 'a2', 'a3', 'a4', 'a5', 'a6', 'name'],\n",
    "                     usecols=['class', 'a1', 'a2', 'a3', 'a4', 'a5', 'a6'])\n",
    "    return df\n",
    "\n",
    "# Get data\n",
    "monk1_train = readFile('https://archive.ics.uci.edu/ml/machine-learning-databases/monks-problems/monks-1.train')\n",
    "monk1_test = readFile('https://archive.ics.uci.edu/ml/machine-learning-databases/monks-problems/monks-1.test')\n",
    "\n",
    "monk1_train.head()"
   ]
  },
  {
   "cell_type": "markdown",
   "metadata": {
    "colab_type": "text",
    "id": "-ogtp8YX3M32"
   },
   "source": [
    "### Prepare and preprocess data"
   ]
  },
  {
   "cell_type": "code",
   "execution_count": 16,
   "metadata": {
    "colab": {},
    "colab_type": "code",
    "id": "HgtyV-cZyaQH"
   },
   "outputs": [],
   "source": [
    "# Split into attribute and target\n",
    "X_train = monk1_train[['a1', 'a2', 'a3', 'a4', 'a5', 'a6']]\n",
    "y_train = monk1_train['class']\n",
    "X_test = monk1_test[['a1', 'a2', 'a3', 'a4', 'a5', 'a6']]\n",
    "y_test = monk1_test['class']\n",
    "\n",
    "sc = StandardScaler()\n",
    "X_train = sc.fit_transform(X_train)\n",
    "X_test = sc.fit_transform(X_test)"
   ]
  },
  {
   "cell_type": "markdown",
   "metadata": {
    "colab_type": "text",
    "id": "B-zJGZn63Iv5"
   },
   "source": [
    "### Run GridSearchCV to find best parameters"
   ]
  },
  {
   "cell_type": "code",
   "execution_count": 17,
   "metadata": {
    "colab": {
     "base_uri": "https://localhost:8080/",
     "height": 278
    },
    "colab_type": "code",
    "id": "JhpoYI-xyyRT",
    "outputId": "09bd7326-1101-46c9-81d4-e4a5ff5894ff"
   },
   "outputs": [
    {
     "name": "stdout",
     "output_type": "stream",
     "text": [
      "MLPClassifier(activation='logistic', alpha=0.01, batch_size='auto',\n",
      "       beta_1=0.9, beta_2=0.999, early_stopping=True, epsilon=1e-08,\n",
      "       hidden_layer_sizes=(50,), learning_rate='constant',\n",
      "       learning_rate_init=0.001, max_iter=100, momentum=0.9,\n",
      "       n_iter_no_change=10, nesterovs_momentum=True, power_t=0.5,\n",
      "       random_state=None, shuffle=True, solver='lbfgs', tol=0.0001,\n",
      "       validation_fraction=0.1, verbose=False, warm_start=False) \n",
      " Score: 1.0\n"
     ]
    },
    {
     "data": {
      "text/plain": [
       "MLPClassifier(activation='logistic', alpha=0.01, batch_size='auto',\n",
       "       beta_1=0.9, beta_2=0.999, early_stopping=True, epsilon=1e-08,\n",
       "       hidden_layer_sizes=(50,), learning_rate='constant',\n",
       "       learning_rate_init=0.001, max_iter=100, momentum=0.9,\n",
       "       n_iter_no_change=10, nesterovs_momentum=True, power_t=0.5,\n",
       "       random_state=None, shuffle=True, solver='lbfgs', tol=0.0001,\n",
       "       validation_fraction=0.1, verbose=False, warm_start=False)"
      ]
     },
     "execution_count": 17,
     "metadata": {},
     "output_type": "execute_result"
    }
   ],
   "source": [
    "clf = MLPClassifier(early_stopping=True)\n",
    "clf.fit(X_train, y_train)\n",
    "# KFold\n",
    "seed = 42\n",
    "np.random.seed(seed)\n",
    "kfold = StratifiedKFold(n_splits=5, shuffle=True, random_state=seed)\n",
    "\n",
    "param_grid = {'activation': ['logistic'],\n",
    "              'solver': ['lbfgs', 'sgd', 'adam'],\n",
    "              'alpha': [0.0001, 0.01, 1],\n",
    "              'learning_rate': ['constant'],\n",
    "              'max_iter': [100],\n",
    "              'hidden_layer_sizes': [(50,)]}\n",
    "\n",
    "grid_search = GridSearchCV(clf, param_grid, cv=kfold)\n",
    "grid_search.fit(X_train, y_train)\n",
    "non_nested_score = grid_search.best_score_\n",
    "print(grid_search.best_estimator_, '\\n Score:', non_nested_score)\n",
    "\n",
    "clf = grid_search.best_estimator_\n",
    "clf.fit(X_train, y_train)\n",
    "#print(clf.loss_curve_)"
   ]
  },
  {
   "cell_type": "markdown",
   "metadata": {
    "colab_type": "text",
    "id": "CAgni-2zy_qU"
   },
   "source": [
    "### Cross-Validation on training and validation set"
   ]
  },
  {
   "cell_type": "code",
   "execution_count": 18,
   "metadata": {
    "colab": {},
    "colab_type": "code",
    "id": "8UjrTnJ0paKL"
   },
   "outputs": [],
   "source": [
    "def plot_curve(estimator, X, y, cv=None, n_jobs=None,\n",
    "               train_sizes=np.linspace(.1, 1.0, 5)):\n",
    "  plt.figure()\n",
    "  plt.title('Learning curve')\n",
    "  plt.xlabel(\"Training examples\")\n",
    "  plt.ylabel(\"Score\")\n",
    "  train_sizes, train_scores, test_scores = learning_curve(\n",
    "      estimator, X, y, cv=cv, n_jobs=n_jobs, train_sizes=train_sizes)\n",
    "  train_scores_mean = np.mean(train_scores, axis=1)\n",
    "  train_scores_std = np.std(train_scores, axis=1)\n",
    "  test_scores_mean = np.mean(test_scores, axis=1)\n",
    "  test_scores_std = np.std(test_scores, axis=1)\n",
    "  plt.grid()\n",
    "\n",
    "  plt.fill_between(train_sizes, train_scores_mean - train_scores_std,\n",
    "                   train_scores_mean + train_scores_std, alpha=0.1,\n",
    "                   color=\"r\")\n",
    "  plt.fill_between(train_sizes, test_scores_mean - test_scores_std,\n",
    "                   test_scores_mean + test_scores_std, alpha=0.1, color=\"g\")\n",
    "  plt.plot(train_sizes, train_scores_mean, 'o-', color=\"r\",\n",
    "           label=\"Training score\")\n",
    "  plt.plot(train_sizes, test_scores_mean, 'o-', color=\"g\",\n",
    "           label=\"Cross-validation score\")\n",
    "\n",
    "  plt.legend(loc=\"best\")\n",
    "  return plt"
   ]
  },
  {
   "cell_type": "code",
   "execution_count": 22,
   "metadata": {
    "colab": {
     "base_uri": "https://localhost:8080/",
     "height": 824
    },
    "colab_type": "code",
    "id": "WrTja86Cy_Nv",
    "outputId": "095f8e68-e7b7-482c-eb2d-b4a364415f05"
   },
   "outputs": [
    {
     "name": "stdout",
     "output_type": "stream",
     "text": [
      "{'fit_time': array([0.05940795, 0.06944156, 0.05960059]), 'score_time': array([0.00542879, 0.00477171, 0.00469089]), 'train_f1': array([1., 1., 1.]), 'test_balanced_accuracy': array([1.        , 0.58333333, 1.        ]), 'test_f1': array([1.        , 0.54545455, 1.        ]), 'test_average_precision': array([1.        , 0.71347221, 1.        ]), 'train_roc_auc': array([1., 1., 1.]), 'train_average_precision': array([1., 1., 1.]), 'train_balanced_accuracy': array([1., 1., 1.]), 'test_roc_auc': array([1. , 0.5, 1. ]), 'test_accuracy': array([1.        , 0.58333333, 1.        ]), 'train_accuracy': array([1., 1., 1.])}\n",
      "Accuracy: 0.99 (+/- 0.05)\n",
      "Accuracy: 1.00 (+/- 0.00)\n"
     ]
    },
    {
     "data": {
      "text/plain": [
       "Text(0, 0.5, 'Score')"
      ]
     },
     "execution_count": 22,
     "metadata": {},
     "output_type": "execute_result"
    },
    {
     "data": {
      "image/png": "[encoded data removed]",
      "text/plain": [
       "<Figure size 432x288 with 1 Axes>"
      ]
     },
     "metadata": {
      "needs_background": "light"
     },
     "output_type": "display_data"
    },
    {
     "data": {
      "image/png": "[encoded data removed]",
      "text/plain": [
       "<Figure size 432x288 with 1 Axes>"
      ]
     },
     "metadata": {
      "needs_background": "light"
     },
     "output_type": "display_data"
    }
   ],
   "source": [
    "scorings = cross_validate(clf, X_test, y_test, scoring=['accuracy', 'balanced_accuracy', 'average_precision', 'f1', 'roc_auc'])\n",
    "print(scorings)\n",
    "\n",
    "cv = ShuffleSplit(n_splits=10, test_size=0.3, random_state=0)\n",
    "\n",
    "scores = cross_val_score(clf, X_train, y_train, cv=cv)\n",
    "print(\"Accuracy: %0.2f (+/- %0.2f)\" % (scores.mean(), scores.std() * 2))\n",
    "\n",
    "scores = cross_val_score(clf, X_test, y_test, cv=cv)\n",
    "print(\"Accuracy: %0.2f (+/- %0.2f)\" % (scores.mean(), scores.std() * 2))\n",
    "\n",
    "plot_curve(clf, X_train, y_train, cv=cv).plot()\n",
    "plt.title('Validation Set')\n",
    "plt.xlabel(\"Training examples\")\n",
    "plt.ylabel(\"Score\")\n",
    "plot_curve(clf, X_test, y_test, cv=cv, ).plot()\n",
    "plt.title('Test Set')\n",
    "plt.xlabel(\"Training examples\")\n",
    "plt.ylabel(\"Score\")"
   ]
  },
  {
   "cell_type": "markdown",
   "metadata": {
    "colab_type": "text",
    "id": "__6sYuH33RIN"
   },
   "source": [
    "### Test on test set"
   ]
  },
  {
   "cell_type": "code",
   "execution_count": 20,
   "metadata": {
    "colab": {
     "base_uri": "https://localhost:8080/",
     "height": 243
    },
    "colab_type": "code",
    "id": "VNCQ2vyJ3XgU",
    "outputId": "210516e1-961d-48b1-aea6-ccb83fbc5abc"
   },
   "outputs": [
    {
     "ename": "NameError",
     "evalue": "name 'accuracy_score' is not defined",
     "output_type": "error",
     "traceback": [
      "\u001b[0;31m---------------------------------------------------------------------------\u001b[0m",
      "\u001b[0;31mNameError\u001b[0m                                 Traceback (most recent call last)",
      "\u001b[0;32m<ipython-input-20-34cfa4378187>\u001b[0m in \u001b[0;36m<module>\u001b[0;34m\u001b[0m\n\u001b[1;32m      1\u001b[0m \u001b[0my_pred_test\u001b[0m \u001b[0;34m=\u001b[0m \u001b[0mclf\u001b[0m\u001b[0;34m.\u001b[0m\u001b[0mpredict\u001b[0m\u001b[0;34m(\u001b[0m\u001b[0mX_test\u001b[0m\u001b[0;34m)\u001b[0m\u001b[0;34m\u001b[0m\u001b[0m\n\u001b[1;32m      2\u001b[0m \u001b[0;34m\u001b[0m\u001b[0m\n\u001b[0;32m----> 3\u001b[0;31m \u001b[0mprint\u001b[0m\u001b[0;34m(\u001b[0m\u001b[0;34m'Accuracy:'\u001b[0m\u001b[0;34m,\u001b[0m \u001b[0maccuracy_score\u001b[0m\u001b[0;34m(\u001b[0m\u001b[0my_test\u001b[0m\u001b[0;34m,\u001b[0m \u001b[0my_pred_test\u001b[0m\u001b[0;34m)\u001b[0m\u001b[0;34m)\u001b[0m\u001b[0;34m\u001b[0m\u001b[0m\n\u001b[0m\u001b[1;32m      4\u001b[0m \u001b[0mprint\u001b[0m\u001b[0;34m(\u001b[0m\u001b[0mconfusion_matrix\u001b[0m\u001b[0;34m(\u001b[0m\u001b[0my_test\u001b[0m\u001b[0;34m,\u001b[0m \u001b[0my_pred_test\u001b[0m\u001b[0;34m)\u001b[0m\u001b[0;34m)\u001b[0m\u001b[0;34m\u001b[0m\u001b[0m\n\u001b[1;32m      5\u001b[0m \u001b[0mprint\u001b[0m\u001b[0;34m(\u001b[0m\u001b[0mclassification_report\u001b[0m\u001b[0;34m(\u001b[0m\u001b[0my_test\u001b[0m\u001b[0;34m,\u001b[0m \u001b[0my_pred_test\u001b[0m\u001b[0;34m)\u001b[0m\u001b[0;34m)\u001b[0m\u001b[0;34m\u001b[0m\u001b[0m\n",
      "\u001b[0;31mNameError\u001b[0m: name 'accuracy_score' is not defined"
     ]
    }
   ],
   "source": [
    "y_pred_test = clf.predict(X_test)\n",
    "\n",
    "print('Accuracy:', accuracy_score(y_test, y_pred_test))\n",
    "print(confusion_matrix(y_test, y_pred_test))\n",
    "print(classification_report(y_test, y_pred_test))\n",
    "\n",
    "scores = cross_val_score(clf, X, y, cv=cv)\n",
    "print(\"Accuracy: %0.2f (+/- %0.2f)\" % (scores.mean(), scores.std() * 2))"
   ]
  },
  {
   "cell_type": "code",
   "execution_count": null,
   "metadata": {},
   "outputs": [],
   "source": []
  }
 ],
 "metadata": {
  "colab": {
   "collapsed_sections": [],
   "name": "MONK_NN.ipynb",
   "provenance": [],
   "version": "0.3.2"
  },
  "kernelspec": {
   "display_name": "Python 3",
   "language": "python",
   "name": "python3"
  },
  "language_info": {
   "codemirror_mode": {
    "name": "ipython",
    "version": 3
   },
   "file_extension": ".py",
   "mimetype": "text/x-python",
   "name": "python",
   "nbconvert_exporter": "python",
   "pygments_lexer": "ipython3",
   "version": "3.5.2"
  }
 },
 "nbformat": 4,
 "nbformat_minor": 1
}
