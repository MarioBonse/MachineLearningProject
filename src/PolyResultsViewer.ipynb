{
 "cells": [
  {
   "cell_type": "code",
   "execution_count": 2,
   "metadata": {},
   "outputs": [],
   "source": [
    "import pandas as pd\n",
    "import numpy as np\n",
    "from matplotlib import gridspec\n",
    "import math\n",
    "import seaborn as sns\n",
    "# This file jupyter uses the results obtained with the grid search in order to plot the \n",
    "# results we have had with svm"
   ]
  },
  {
   "cell_type": "code",
   "execution_count": 31,
   "metadata": {},
   "outputs": [],
   "source": [
    "df = pd.read_csv(\"../result/POLYNOMIALdefinitiveroughgridsearch.csv\")\n",
    "df = df.drop(columns = [ 'coef',\n",
    " 'Validation foldN _0',\n",
    " 'Validation foldN _1',\n",
    " 'Validation foldN _2',\n",
    " 'Validation foldN _3',\n",
    " 'Validation foldN _4',\n",
    " 'Training foldN _0',\n",
    " 'Training foldN _1',\n",
    " 'Training foldN _2',\n",
    " 'Training foldN _3',\n",
    " 'Training foldN _4', 'time','kernel'])\n",
    "df=df.astype('float')\n",
    "df = df.sort_values(by = [\"C\", \"degree\"])\n",
    "df = df.round(2)\n",
    "df = df.reset_index(drop = True)"
   ]
  },
  {
   "cell_type": "code",
   "execution_count": 39,
   "metadata": {},
   "outputs": [],
   "source": [
    "df = df.drop_duplicates(['degree','C'])\n",
    "df = df.pivot(\"degree\", \"C\", \"Validation mean\")"
   ]
  },
  {
   "cell_type": "code",
   "execution_count": 41,
   "metadata": {},
   "outputs": [
    {
     "data": {
      "image/png": "[encoded data removed]",
      "text/plain": [
       "<Figure size 432x288 with 2 Axes>"
      ]
     },
     "metadata": {
      "needs_background": "light"
     },
     "output_type": "display_data"
    }
   ],
   "source": [
    "ax = sns.heatmap(df, cmap=\"binary\" )"
   ]
  }
 ],
 "metadata": {
  "kernelspec": {
   "display_name": "Python 3",
   "language": "python",
   "name": "python3"
  },
  "language_info": {
   "codemirror_mode": {
    "name": "ipython",
    "version": 3
   },
   "file_extension": ".py",
   "mimetype": "text/x-python",
   "name": "python",
   "nbconvert_exporter": "python",
   "pygments_lexer": "ipython3",
   "version": "3.6.7"
  }
 },
 "nbformat": 4,
 "nbformat_minor": 2
}
