{
 "cells": [
  {
   "cell_type": "markdown",
   "metadata": {},
   "source": [
    "Collect the datas and split them"
   ]
  },
  {
   "cell_type": "code",
   "execution_count": 9,
   "metadata": {},
   "outputs": [],
   "source": [
    "import pandas as pd\n",
    "import numpy as np\n",
    "import seaborn as sns\n",
    "import kerasNN\n",
    "import datacontrol\n",
    "import validation\n",
    "from sklearn.preprocessing import StandardScaler\n",
    "from sklearn.model_selection import KFold\n",
    "import time\n",
    "#  collect the data\n",
    "TrainingData = datacontrol.readFile(\"../data/Development.csv\")\n",
    "TestData = datacontrol.readFile(\"../data/MyTest.csv\")\n",
    "X, Y = datacontrol.divide(TrainingData)\n",
    "XT , YT = datacontrol.divide(TestData)\n",
    "scaler = StandardScaler()"
   ]
  },
  {
   "cell_type": "markdown",
   "metadata": {},
   "source": [
    "<h1>SVM test <h1/>\n",
    "    "
   ]
  },
  {
   "cell_type": "code",
   "execution_count": 2,
   "metadata": {},
   "outputs": [
    {
     "name": "stdout",
     "output_type": "stream",
     "text": [
      "Test Error with svm: 0.99\n",
      "Time: 1.27\n"
     ]
    }
   ],
   "source": [
    "# create svr regressor object\n",
    "from sklearn import svm\n",
    "from sklearn.multioutput import MultiOutputRegressor\n",
    "start = time.time()\n",
    "svr = svm.SVR(kernel=\"rbf\", gamma=0.1, C= 19, epsilon=0.01)\n",
    "SVRegressor = MultiOutputRegressor(svr, n_jobs=8)\n",
    "scaler.fit(X)\n",
    "X = scaler.transform(X)\n",
    "XT = scaler.transform(XT)\n",
    "SVRegressor.fit(X, Y)\n",
    "ypredicted = SVRegressor.predict(XT)\n",
    "SVMTestResult = validation.MeanEuclidianError(ypredicted, YT)\n",
    "print(\"Test Error with svm: %.2f\" %SVMTestResult)\n",
    "print(\"Time: %.2f\"%(time.time()-start))"
   ]
  },
  {
   "cell_type": "markdown",
   "metadata": {},
   "source": [
    "<h1>ELM test <h1/>"
   ]
  },
  {
   "cell_type": "code",
   "execution_count": 8,
   "metadata": {},
   "outputs": [
    {
     "name": "stdout",
     "output_type": "stream",
     "text": [
      "Test Error with svm: 1.07\n",
      "Time: 2.10\n"
     ]
    }
   ],
   "source": [
    "import ExtremeLearningMAchine as elm\n",
    "start = time.time()\n",
    "ellm = elm.elm(NetworArchitecture = [2000], activation = \"relu\" ,alpha = 0.8)\n",
    "ellm.fit(X, Y, scaler = True)\n",
    "ypredicted = ellm.predict(XT)\n",
    "ELMresults = validation.MeanEuclidianError(ypredicted, YT)\n",
    "print(\"Test Error with svm: %.2f\" %ELMresults)\n",
    "print(\"Time: %.2f\"%(time.time()-start))"
   ]
  },
  {
   "cell_type": "markdown",
   "metadata": {},
   "source": [
    "<h1>MLP test<h1/>"
   ]
  },
  {
   "cell_type": "code",
   "execution_count": 12,
   "metadata": {},
   "outputs": [
    {
     "name": "stdout",
     "output_type": "stream",
     "text": [
      "Min loss on validation set was on epoch 2797\n",
      "loss: 0.86\n",
      "time: 926.539743\n"
     ]
    },
    {
     "data": {
      "image/png": "[encoded data removed]",
      "text/plain": [
       "<Figure size 432x288 with 1 Axes>"
      ]
     },
     "metadata": {
      "needs_background": "light"
     },
     "output_type": "display_data"
    },
    {
     "name": "stdout",
     "output_type": "stream",
     "text": [
      "Test Error with NN: 0.86\n",
      "Time: 926.69\n"
     ]
    }
   ],
   "source": [
    "import kerasNN\n",
    "start = time.time()\n",
    "NN = kerasNN.KerasNN(NetworArchitecture = [625, 625, 625, 625, 625], activation = \"relu\", eta = 0.00015, momentum = 0.99, epochs = 5000, DropOutHiddenLayer = 0.2)\n",
    "MLPResult = NN.trainValidation(X, Y,XT, YT, plot=True)\n",
    "print(\"Test Error with NN: %.2f\" %MLPResult)\n",
    "print(\"Time: %.2f\"%(time.time()-start))"
   ]
  },
  {
   "cell_type": "code",
   "execution_count": 13,
   "metadata": {},
   "outputs": [
    {
     "name": "stdout",
     "output_type": "stream",
     "text": [
      "Test Error with NN: 0.86\n",
      "Time: 4872.02\n"
     ]
    }
   ],
   "source": [
    "print(\"Test Error with NN: %.2f\" %MLPResult)\n",
    "print(\"Time: %.2f\"%(time.time()-start))"
   ]
  },
  {
   "cell_type": "markdown",
   "metadata": {},
   "source": []
  }
 ],
 "metadata": {
  "kernelspec": {
   "display_name": "Python 3",
   "language": "python",
   "name": "python3"
  },
  "language_info": {
   "codemirror_mode": {
    "name": "ipython",
    "version": 3
   },
   "file_extension": ".py",
   "mimetype": "text/x-python",
   "name": "python",
   "nbconvert_exporter": "python",
   "pygments_lexer": "ipython3",
   "version": "3.6.7"
  }
 },
 "nbformat": 4,
 "nbformat_minor": 2
}
