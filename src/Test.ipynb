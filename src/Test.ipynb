{
 "cells": [
  {
   "cell_type": "code",
   "execution_count": 48,
   "metadata": {},
   "outputs": [],
   "source": [
    "import numpy as np\n",
    "import pandas as pd\n",
    "import csv\n",
    "import matplotlib.pyplot as plt\n",
    "import seaborn as sns\n",
    "import datacontrol\n",
    "from sklearn.model_selection import KFold\n",
    "from sklearn.model_selection import StratifiedKFold\n",
    "from sklearn.model_selection import train_test_split\n",
    "from sklearn.model_selection import LeaveOneOut\n",
    "from sklearn import svm\n",
    "from sklearn.multioutput import MultiOutputRegressor"
   ]
  },
  {
   "cell_type": "code",
   "execution_count": 59,
   "metadata": {},
   "outputs": [
    {
     "data": {
      "text/plain": [
       "(1016, 10)"
      ]
     },
     "execution_count": 59,
     "metadata": {},
     "output_type": "execute_result"
    }
   ],
   "source": [
    "TrainingData = datacontrol.readFile(\"../data/ML-CUP18-TR.csv\")\n",
    "x_train, y_train = datacontrol.divide(TrainingData)\n",
    "x_train.shape"
   ]
  },
  {
   "cell_type": "code",
   "execution_count": 18,
   "metadata": {},
   "outputs": [],
   "source": [
    "X_train, x_test, Y_train, y_test = train_test_split(x_train, y_train, test_size=0.4, random_state=0)"
   ]
  },
  {
   "cell_type": "code",
   "execution_count": 50,
   "metadata": {},
   "outputs": [
    {
     "name": "stdout",
     "output_type": "stream",
     "text": [
      "0.9492826792284392\n",
      "0.95171067947978\n",
      "0.9546267813041083\n",
      "0.9474764164234792\n"
     ]
    }
   ],
   "source": [
    "kf = KFold(n_splits=4)\n",
    "svr = svm.SVR()\n",
    "SVRegressor = MultiOutputRegressor(svr, n_jobs= 2)\n",
    "for train, test in kf.split(x_train):\n",
    "    #print(\"%s %s\" % (train, test))\n",
    "    X_train, x_test, Y_train, y_test = x_train[train], x_train[test], y_train[train], y_train[test]\n",
    "    SVRegressor.fit(X_train, Y_train)\n",
    "    score = SVRegressor.score(x_test, y_test)\n",
    "    print(score)"
   ]
  },
  {
   "cell_type": "code",
   "execution_count": 63,
   "metadata": {},
   "outputs": [],
   "source": [
    "def kFoldCross(trainCallback, scoreCallback, x_train, y_train, n_splits=4):\n",
    "    kf = KFold(n_splits=n_splits)\n",
    "    result = []\n",
    "    for train, test in kf.split(x_train):\n",
    "        X_train, x_test, Y_train, y_test = x_train[train], x_train[test], y_train[train], y_train[test]\n",
    "        trainCallback(X_train, Y_train)\n",
    "        score = scoreCallback(x_test, y_test)\n",
    "        result.append(score)\n",
    "    return result\n",
    "        \n"
   ]
  },
  {
   "cell_type": "code",
   "execution_count": 55,
   "metadata": {},
   "outputs": [],
   "source": [
    "def svm_callback(X_train, x_test, Y_train, y_test):\n",
    "    SVRegressor.fit(X_train, Y_train)\n",
    "    return SVRegressor.score(x_test, y_test)"
   ]
  },
  {
   "cell_type": "code",
   "execution_count": 66,
   "metadata": {},
   "outputs": [],
   "source": [
    "scores = (kFoldCross(SVRegressor.fit, SVRegressor.score, x_train, y_train))"
   ]
  },
  {
   "cell_type": "code",
   "execution_count": 74,
   "metadata": {},
   "outputs": [],
   "source": [
    "scores = np.array(scores)"
   ]
  },
  {
   "cell_type": "code",
   "execution_count": 73,
   "metadata": {},
   "outputs": [
    {
     "data": {
      "text/plain": [
       "0.005368369141140551"
      ]
     },
     "execution_count": 73,
     "metadata": {},
     "output_type": "execute_result"
    }
   ],
   "source": [
    "scores.std()*2"
   ]
  }
 ],
 "metadata": {
  "kernelspec": {
   "display_name": "Python 3",
   "language": "python",
   "name": "python3"
  },
  "language_info": {
   "codemirror_mode": {
    "name": "ipython",
    "version": 3
   },
   "file_extension": ".py",
   "mimetype": "text/x-python",
   "name": "python",
   "nbconvert_exporter": "python",
   "pygments_lexer": "ipython3",
   "version": "3.6.7"
  }
 },
 "nbformat": 4,
 "nbformat_minor": 2
}
