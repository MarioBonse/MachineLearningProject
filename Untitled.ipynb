{
 "cells": [
  {
   "cell_type": "code",
   "execution_count": 6,
   "metadata": {},
   "outputs": [],
   "source": [
    "from keras.models import Sequential\n",
    "from keras.layers import Dense\n",
    "from keras.layers import Flatten\n",
    "from keras.constraints import maxnorm\n",
    "import keras\n",
    "import numpy as np\n",
    "import pandas as pd\n",
    "import src.datacontrol as datacontrol\n",
    "import sklearn\n",
    "from sklearn.model_selection import KFold\n",
    "import matplotlib.pyplot as plt\n",
    "import time\n",
    "from sklearn.model_selection import StratifiedKFold\n",
    "from sklearn.preprocessing import StandardScaler\n",
    "from sklearn.linear_model import LinearRegression\n",
    "import torch\n",
    "\n",
    "NetworArchitecture = [100, 100, 100, 100, 100]\n",
    "activation = \"relu\"\n",
    "\n",
    "\n",
    "def newModel(D_in, D_out):\n",
    "    return torch.nn.Sequential(\n",
    "        torch.nn.Linear(D_in, NetworArchitecture[0]),\n",
    "        torch.nn.ReLU(),\n",
    "        torch.nn.Linear(NetworArchitecture[0], D_out),\n",
    "    )\n",
    "\n",
    "def createModel(input_dimention, output_dimention):\n",
    "    model = Sequential()\n",
    "    model.predict(Flatten(input_shape=(10,1)))\n",
    "    model.add(Dense(units=NetworArchitecture[0], activation=activation))\n",
    "    for node in NetworArchitecture[1:-1]:\n",
    "        model.add(Dense(units=node, activation=activation))\n",
    "    model.add(Dense(units=NetworArchitecture[-1], activation=\"linear\"))\n",
    "    model.compile(loss=keras.losses.mean_squared_error, optimizer=keras.optimizers.SGD(\n",
    "        lr=0.0001))\n",
    "    return model\n",
    "\n"
   ]
  },
  {
   "cell_type": "code",
   "execution_count": 49,
   "metadata": {},
   "outputs": [],
   "source": [
    "from sklearn.multioutput import MultiOutputRegressor"
   ]
  },
  {
   "cell_type": "code",
   "execution_count": 9,
   "metadata": {},
   "outputs": [],
   "source": [
    "try:\n",
    "    TrainingData = datacontrol.readFile(\"data/ML-CUP18-TR.csv\")\n",
    "except:\n",
    "    TrainingData = datacontrol.readFile(\"../data/ML-CUP18-TR.csv\")\n",
    "x_train, y_train = datacontrol.divide(TrainingData)\n",
    "# preprocessing\n",
    "#x_train = sklearn.preprocessing.scale(x_train, axis=0, with_mean=True, with_std=True, copy=True)\n",
    "input_dimention = x_train.shape[1]\n",
    "output_dimention = y_train.shape[1]\n",
    "# Now we will use k_fold in order to validate the model\n",
    "kf = KFold(n_splits=5)\n",
    "# scaler for NN\n",
    "scaler = StandardScaler()\n",
    "result = []\n"
   ]
  },
  {
   "cell_type": "raw",
   "metadata": {},
   "source": [
    "train = range(0:600)\n",
    "test = range(600:shape(x_train)[0] )"
   ]
  },
  {
   "cell_type": "code",
   "execution_count": 70,
   "metadata": {},
   "outputs": [],
   "source": [
    "\n",
    "model = newModel(input_dimention, 100)\n",
    "X_train, x_test, Y_train, y_test = x_train[train], x_train[test], y_train[train], y_train[test]\n",
    "# Now we will sclae the data\n",
    "# We will fit the scaler with the training set and apply the trasformation also\n",
    "# to the test data\n",
    "scaler.fit(X_train)\n",
    "X_train = scaler.transform(X_train)\n",
    "x_test = scaler.transform(x_test)\n"
   ]
  },
  {
   "cell_type": "code",
   "execution_count": 76,
   "metadata": {},
   "outputs": [],
   "source": [
    "NN_output = []\n",
    "for x in range(np.shape(X_train)[0]):\n",
    "    out = model(torch.from_numpy(X_train[x]).float())\n",
    "    out = out.detach().numpy()\n",
    "    NN_output.append(out)\n",
    "NN_output = np.array(NN_output)"
   ]
  },
  {
   "cell_type": "code",
   "execution_count": 78,
   "metadata": {},
   "outputs": [
    {
     "data": {
      "text/plain": [
       "(812, 100)"
      ]
     },
     "execution_count": 78,
     "metadata": {},
     "output_type": "execute_result"
    }
   ],
   "source": [
    "np.shape(NN_output)"
   ]
  },
  {
   "cell_type": "code",
   "execution_count": 82,
   "metadata": {},
   "outputs": [],
   "source": [
    "\n",
    "reg = LinearRegression().fit(NN_output, Y_train[:,0])\n",
    "#reg = MultiOutputRegressor(LinearRegression(), n_jobs=2).fit(NN_output, Y_train)\n",
    "score = 0\n",
    "for i in range(np.shape(x_test)[0]):\n",
    "    out = model(torch.from_numpy(x_test[i]).float())\n",
    "    out = out.detach().numpy()\n",
    "    yout = reg.predict(np.asmatrix(out))\n",
    "    score += (yout - y_test[i,0])**2"
   ]
  },
  {
   "cell_type": "code",
   "execution_count": 83,
   "metadata": {},
   "outputs": [
    {
     "name": "stdout",
     "output_type": "stream",
     "text": [
      "loss: 25.24\n",
      "[25.24135742]\n"
     ]
    }
   ],
   "source": [
    "\n",
    "score = score/np.shape(x_test[0])\n",
    "result.append(score)\n",
    "#loss_and_metrics = model.evaluate(x_train, y_train, batch_size=128)\n",
    "print(\"%s: %.2f\" % (\"loss\", score))\n",
    "print(score)\n"
   ]
  },
  {
   "cell_type": "code",
   "execution_count": 54,
   "metadata": {},
   "outputs": [],
   "source": [
    "out = model(torch.from_numpy(X_train[x]).float())"
   ]
  },
  {
   "cell_type": "code",
   "execution_count": 58,
   "metadata": {},
   "outputs": [
    {
     "ename": "AttributeError",
     "evalue": "'numpy.ndarray' object has no attribute 'detach'",
     "output_type": "error",
     "traceback": [
      "\u001b[0;31m---------------------------------------------------------------------------\u001b[0m",
      "\u001b[0;31mAttributeError\u001b[0m                            Traceback (most recent call last)",
      "\u001b[0;32m<ipython-input-58-15815b5082ae>\u001b[0m in \u001b[0;36m<module>\u001b[0;34m()\u001b[0m\n\u001b[0;32m----> 1\u001b[0;31m \u001b[0mout\u001b[0m \u001b[0;34m=\u001b[0m \u001b[0;34m(\u001b[0m\u001b[0mout\u001b[0m\u001b[0;34m.\u001b[0m\u001b[0mdetach\u001b[0m\u001b[0;34m(\u001b[0m\u001b[0;34m)\u001b[0m\u001b[0;34m.\u001b[0m\u001b[0mnumpy\u001b[0m\u001b[0;34m(\u001b[0m\u001b[0;34m)\u001b[0m\u001b[0;34m)\u001b[0m\u001b[0;34m\u001b[0m\u001b[0;34m\u001b[0m\u001b[0m\n\u001b[0m",
      "\u001b[0;31mAttributeError\u001b[0m: 'numpy.ndarray' object has no attribute 'detach'"
     ]
    }
   ],
   "source": [
    "out = (out.detach().numpy())"
   ]
  },
  {
   "cell_type": "code",
   "execution_count": 74,
   "metadata": {},
   "outputs": [],
   "source": [
    "X = np.array([[1, 1], [1, 2], [2, 2], [2, 3]])"
   ]
  },
  {
   "cell_type": "code",
   "execution_count": 75,
   "metadata": {},
   "outputs": [
    {
     "data": {
      "text/plain": [
       "(4, 2)"
      ]
     },
     "execution_count": 75,
     "metadata": {},
     "output_type": "execute_result"
    }
   ],
   "source": [
    "np.shape(X)"
   ]
  }
 ],
 "metadata": {
  "kernelspec": {
   "display_name": "Python 3",
   "language": "python",
   "name": "python3"
  },
  "language_info": {
   "codemirror_mode": {
    "name": "ipython",
    "version": 3
   },
   "file_extension": ".py",
   "mimetype": "text/x-python",
   "name": "python",
   "nbconvert_exporter": "python",
   "pygments_lexer": "ipython3",
   "version": "3.6.7"
  }
 },
 "nbformat": 4,
 "nbformat_minor": 2
}
